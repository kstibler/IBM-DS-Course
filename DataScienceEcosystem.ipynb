{
 "cells": [
  {
   "cell_type": "markdown",
   "id": "0817e53e-497a-4e65-835d-4e051634cc92",
   "metadata": {},
   "source": [
    "Exercise 2: <h1> Data Science Tools and Ecosystem </h1>"
   ]
  },
  {
   "cell_type": "markdown",
   "id": "dd14bfb8-cb31-4501-873d-d36486fe68ad",
   "metadata": {},
   "source": [
    "Exercise 3: \n",
    "\n",
    "In this notebook, Data Science Tools and Ecosystem are summarized."
   ]
  },
  {
   "cell_type": "markdown",
   "id": "46e1ba86-7c10-4836-8316-f215a82d86cf",
   "metadata": {},
   "source": [
    "Exercise 4:\n",
    "\n",
    "Some of the popular languages that Data Scientists use are:\n",
    "1. R\n",
    "2. Scala\n",
    "3. Python\n",
    "4. Julia\n",
    "5. SQL"
   ]
  },
  {
   "cell_type": "markdown",
   "id": "bd980afd-33e6-4857-a9a3-b60fbf3ec965",
   "metadata": {},
   "source": [
    "Exercise 5:\n",
    "\n",
    "Some of the commonly used libraries used by Data Scientists include:\n",
    "1. Pandas\n",
    "2. Numpy\n",
    "3. TensorFlow\n",
    "4. Scikit-Learn\n",
    "5. Keras"
   ]
  },
  {
   "cell_type": "markdown",
   "id": "5d02cad2-aec8-45d1-8f32-7ad90689c652",
   "metadata": {},
   "source": [
    "Exercise 6:\n",
    "\n",
    "| Data Science Tools | Publisher | Use |\n",
    "| --- | --- | --- |\n",
    "| SPSS | IBM | Social Science Research |\n",
    "| Spark | Apache Software Foundation | Real Time Big Data Analytics |\n",
    "| BigML | BigML | ML - Big Variety |\n",
    "| MATLAB | Mathworks | Academic Research - Hard Sciences and Mathematics|\n",
    "| Excel | Microsoft | Everything and More |"
   ]
  },
  {
   "cell_type": "markdown",
   "id": "a9c8bfe9-31d8-45b3-9b61-3b3d631ebff9",
   "metadata": {},
   "source": [
    "Exercise 7:\n",
    "\n",
    "Below are a few examples of evaluating arithmetic expressions in Python."
   ]
  },
  {
   "cell_type": "markdown",
   "id": "8f55ae5f-8f1f-45a8-9a5b-98ee88a1b5fc",
   "metadata": {},
   "source": [
    "Exercise 8:\n",
    "\n",
    "This a simple arithmetic expression to mutiply then add integers"
   ]
  },
  {
   "cell_type": "code",
   "execution_count": 16,
   "id": "138daa33-de5c-4b7d-832b-782f1a889a74",
   "metadata": {},
   "outputs": [
    {
     "data": {
      "text/plain": [
       "17"
      ]
     },
     "execution_count": 16,
     "metadata": {},
     "output_type": "execute_result"
    }
   ],
   "source": [
    "(3*4)+5"
   ]
  },
  {
   "cell_type": "markdown",
   "id": "219c800a-8b74-41b2-872f-7d03cbe6ea31",
   "metadata": {},
   "source": [
    "Exercise 9:\n",
    "\n",
    "This will convert 200 minutes to hours by diving by 60"
   ]
  },
  {
   "cell_type": "code",
   "execution_count": 17,
   "id": "2cc3d98d-7f31-4119-88af-c1d928430f2d",
   "metadata": {},
   "outputs": [
    {
     "data": {
      "text/plain": [
       "3.3333333333333335"
      ]
     },
     "execution_count": 17,
     "metadata": {},
     "output_type": "execute_result"
    }
   ],
   "source": [
    "200 /60"
   ]
  },
  {
   "cell_type": "markdown",
   "id": "7b8bf31c-d9ea-4726-a67f-cec27eb82b81",
   "metadata": {},
   "source": [
    "Exercise 10:\n",
    "\n",
    "- Objective 1: Explore popular data science tools\n",
    "- Objective 2: Get familiar with Jupyter\n",
    "- Objective 3: Begin the IBM vendor lockin process"
   ]
  },
  {
   "cell_type": "markdown",
   "id": "41d3cc78-7847-4676-8d1e-7f724f5c2427",
   "metadata": {},
   "source": [
    "Exercise 11:\n",
    "\n",
    "Author: Ken Stibler"
   ]
  }
 ],
 "metadata": {
  "kernelspec": {
   "display_name": "Python",
   "language": "python",
   "name": "conda-env-python-py"
  },
  "language_info": {
   "codemirror_mode": {
    "name": "ipython",
    "version": 3
   },
   "file_extension": ".py",
   "mimetype": "text/x-python",
   "name": "python",
   "nbconvert_exporter": "python",
   "pygments_lexer": "ipython3",
   "version": "3.7.12"
  }
 },
 "nbformat": 4,
 "nbformat_minor": 5
}
